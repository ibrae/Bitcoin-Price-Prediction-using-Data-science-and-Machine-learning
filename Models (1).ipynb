{
 "cells": [
  {
   "cell_type": "code",
   "execution_count": 59,
   "metadata": {},
   "outputs": [],
   "source": [
    "# import the libraries\n",
    "from datetime import datetime, timedelta\n",
    "import pandas as pd\n",
    "import numpy as np\n",
    "from sklearn.svm import SVR\n",
    "import seaborn as sns\n",
    "import matplotlib.pyplot as plt\n",
    "import pickle\n",
    "from numpy.core.umath_tests import inner1d"
   ]
  },
  {
   "cell_type": "code",
   "execution_count": 60,
   "metadata": {},
   "outputs": [
    {
     "data": {
      "text/html": [
       "<div>\n",
       "<style scoped>\n",
       "    .dataframe tbody tr th:only-of-type {\n",
       "        vertical-align: middle;\n",
       "    }\n",
       "\n",
       "    .dataframe tbody tr th {\n",
       "        vertical-align: top;\n",
       "    }\n",
       "\n",
       "    .dataframe thead th {\n",
       "        text-align: right;\n",
       "    }\n",
       "</style>\n",
       "<table border=\"1\" class=\"dataframe\">\n",
       "  <thead>\n",
       "    <tr style=\"text-align: right;\">\n",
       "      <th></th>\n",
       "      <th>Open</th>\n",
       "      <th>High</th>\n",
       "      <th>Low</th>\n",
       "      <th>Close</th>\n",
       "      <th>Volume</th>\n",
       "      <th>Market Cap</th>\n",
       "    </tr>\n",
       "    <tr>\n",
       "      <th>Date</th>\n",
       "      <th></th>\n",
       "      <th></th>\n",
       "      <th></th>\n",
       "      <th></th>\n",
       "      <th></th>\n",
       "      <th></th>\n",
       "    </tr>\n",
       "  </thead>\n",
       "  <tbody>\n",
       "    <tr>\n",
       "      <th>2020-12-14</th>\n",
       "      <td>19273.91638</td>\n",
       "      <td>19540.78258</td>\n",
       "      <td>19086.03263</td>\n",
       "      <td>19434.07031</td>\n",
       "      <td>3.720726e+10</td>\n",
       "      <td>3.592630e+11</td>\n",
       "    </tr>\n",
       "    <tr>\n",
       "      <th>2020-12-15</th>\n",
       "      <td>19424.01073</td>\n",
       "      <td>21395.55444</td>\n",
       "      <td>19306.67714</td>\n",
       "      <td>21367.09631</td>\n",
       "      <td>4.822748e+10</td>\n",
       "      <td>3.724990e+11</td>\n",
       "    </tr>\n",
       "    <tr>\n",
       "      <th>2020-12-16</th>\n",
       "      <td>21349.65670</td>\n",
       "      <td>23656.65347</td>\n",
       "      <td>21265.80118</td>\n",
       "      <td>22823.45909</td>\n",
       "      <td>1.199670e+11</td>\n",
       "      <td>4.197790e+11</td>\n",
       "    </tr>\n",
       "    <tr>\n",
       "      <th>2020-12-17</th>\n",
       "      <td>22796.24924</td>\n",
       "      <td>23239.69877</td>\n",
       "      <td>22397.09551</td>\n",
       "      <td>23113.99259</td>\n",
       "      <td>1.170190e+11</td>\n",
       "      <td>4.248080e+11</td>\n",
       "    </tr>\n",
       "    <tr>\n",
       "      <th>2020-12-18</th>\n",
       "      <td>23131.04460</td>\n",
       "      <td>24077.49414</td>\n",
       "      <td>22830.89779</td>\n",
       "      <td>23844.56807</td>\n",
       "      <td>6.365550e+10</td>\n",
       "      <td>4.334090e+11</td>\n",
       "    </tr>\n",
       "  </tbody>\n",
       "</table>\n",
       "</div>"
      ],
      "text/plain": [
       "                   Open         High          Low        Close        Volume  \\\n",
       "Date                                                                           \n",
       "2020-12-14  19273.91638  19540.78258  19086.03263  19434.07031  3.720726e+10   \n",
       "2020-12-15  19424.01073  21395.55444  19306.67714  21367.09631  4.822748e+10   \n",
       "2020-12-16  21349.65670  23656.65347  21265.80118  22823.45909  1.199670e+11   \n",
       "2020-12-17  22796.24924  23239.69877  22397.09551  23113.99259  1.170190e+11   \n",
       "2020-12-18  23131.04460  24077.49414  22830.89779  23844.56807  6.365550e+10   \n",
       "\n",
       "              Market Cap  \n",
       "Date                      \n",
       "2020-12-14  3.592630e+11  \n",
       "2020-12-15  3.724990e+11  \n",
       "2020-12-16  4.197790e+11  \n",
       "2020-12-17  4.248080e+11  \n",
       "2020-12-18  4.334090e+11  "
      ]
     },
     "execution_count": 60,
     "metadata": {},
     "output_type": "execute_result"
    }
   ],
   "source": [
    "#load the data\n",
    "df = pd.read_csv('Bitcoin_Data/last_5years_data.csv', parse_dates=['Date'],index_col='Date')\n",
    "df=df.sort_values(by='Date')\n",
    "df.tail()"
   ]
  },
  {
   "cell_type": "code",
   "execution_count": 61,
   "metadata": {},
   "outputs": [
    {
     "data": {
      "text/plain": [
       "Open          False\n",
       "High          False\n",
       "Low           False\n",
       "Close         False\n",
       "Volume        False\n",
       "Market Cap    False\n",
       "dtype: bool"
      ]
     },
     "execution_count": 61,
     "metadata": {},
     "output_type": "execute_result"
    }
   ],
   "source": [
    "#check  if there are any null values in the data\n",
    "df.isnull().any()"
   ]
  },
  {
   "cell_type": "code",
   "execution_count": 62,
   "metadata": {},
   "outputs": [
    {
     "data": {
      "text/html": [
       "<div>\n",
       "<style scoped>\n",
       "    .dataframe tbody tr th:only-of-type {\n",
       "        vertical-align: middle;\n",
       "    }\n",
       "\n",
       "    .dataframe tbody tr th {\n",
       "        vertical-align: top;\n",
       "    }\n",
       "\n",
       "    .dataframe thead th {\n",
       "        text-align: right;\n",
       "    }\n",
       "</style>\n",
       "<table border=\"1\" class=\"dataframe\">\n",
       "  <thead>\n",
       "    <tr style=\"text-align: right;\">\n",
       "      <th></th>\n",
       "      <th>Open</th>\n",
       "      <th>High</th>\n",
       "      <th>Low</th>\n",
       "      <th>Close</th>\n",
       "    </tr>\n",
       "    <tr>\n",
       "      <th>Date</th>\n",
       "      <th></th>\n",
       "      <th></th>\n",
       "      <th></th>\n",
       "      <th></th>\n",
       "    </tr>\n",
       "  </thead>\n",
       "  <tbody>\n",
       "    <tr>\n",
       "      <th>2020-12-14</th>\n",
       "      <td>19273.91638</td>\n",
       "      <td>19540.78258</td>\n",
       "      <td>19086.03263</td>\n",
       "      <td>19434.07031</td>\n",
       "    </tr>\n",
       "    <tr>\n",
       "      <th>2020-12-15</th>\n",
       "      <td>19424.01073</td>\n",
       "      <td>21395.55444</td>\n",
       "      <td>19306.67714</td>\n",
       "      <td>21367.09631</td>\n",
       "    </tr>\n",
       "    <tr>\n",
       "      <th>2020-12-16</th>\n",
       "      <td>21349.65670</td>\n",
       "      <td>23656.65347</td>\n",
       "      <td>21265.80118</td>\n",
       "      <td>22823.45909</td>\n",
       "    </tr>\n",
       "    <tr>\n",
       "      <th>2020-12-17</th>\n",
       "      <td>22796.24924</td>\n",
       "      <td>23239.69877</td>\n",
       "      <td>22397.09551</td>\n",
       "      <td>23113.99259</td>\n",
       "    </tr>\n",
       "    <tr>\n",
       "      <th>2020-12-18</th>\n",
       "      <td>23131.04460</td>\n",
       "      <td>24077.49414</td>\n",
       "      <td>22830.89779</td>\n",
       "      <td>23844.56807</td>\n",
       "    </tr>\n",
       "  </tbody>\n",
       "</table>\n",
       "</div>"
      ],
      "text/plain": [
       "                   Open         High          Low        Close\n",
       "Date                                                          \n",
       "2020-12-14  19273.91638  19540.78258  19086.03263  19434.07031\n",
       "2020-12-15  19424.01073  21395.55444  19306.67714  21367.09631\n",
       "2020-12-16  21349.65670  23656.65347  21265.80118  22823.45909\n",
       "2020-12-17  22796.24924  23239.69877  22397.09551  23113.99259\n",
       "2020-12-18  23131.04460  24077.49414  22830.89779  23844.56807"
      ]
     },
     "execution_count": 62,
     "metadata": {},
     "output_type": "execute_result"
    }
   ],
   "source": [
    "#Data dimension reduction\n",
    "df.drop(['Volume','Market Cap'], axis=1, inplace =True)\n",
    "df.tail()"
   ]
  },
  {
   "cell_type": "code",
   "execution_count": 63,
   "metadata": {},
   "outputs": [
    {
     "name": "stdout",
     "output_type": "stream",
     "text": [
      "<class 'pandas.core.frame.DataFrame'>\n",
      "DatetimeIndex: 2063 entries, 2015-04-27 to 2020-12-18\n",
      "Data columns (total 4 columns):\n",
      "Open     2063 non-null float64\n",
      "High     2063 non-null float64\n",
      "Low      2063 non-null float64\n",
      "Close    2063 non-null float64\n",
      "dtypes: float64(4)\n",
      "memory usage: 80.6 KB\n"
     ]
    }
   ],
   "source": [
    "#outlier detection\n",
    "df.shape\n",
    "df.info()"
   ]
  },
  {
   "cell_type": "code",
   "execution_count": 64,
   "metadata": {},
   "outputs": [
    {
     "data": {
      "text/html": [
       "<div>\n",
       "<style scoped>\n",
       "    .dataframe tbody tr th:only-of-type {\n",
       "        vertical-align: middle;\n",
       "    }\n",
       "\n",
       "    .dataframe tbody tr th {\n",
       "        vertical-align: top;\n",
       "    }\n",
       "\n",
       "    .dataframe thead th {\n",
       "        text-align: right;\n",
       "    }\n",
       "</style>\n",
       "<table border=\"1\" class=\"dataframe\">\n",
       "  <thead>\n",
       "    <tr style=\"text-align: right;\">\n",
       "      <th></th>\n",
       "      <th>Open</th>\n",
       "      <th>High</th>\n",
       "      <th>Low</th>\n",
       "      <th>Close</th>\n",
       "    </tr>\n",
       "  </thead>\n",
       "  <tbody>\n",
       "    <tr>\n",
       "      <th>count</th>\n",
       "      <td>2063.000000</td>\n",
       "      <td>2063.000000</td>\n",
       "      <td>2063.000000</td>\n",
       "      <td>2063.000000</td>\n",
       "    </tr>\n",
       "    <tr>\n",
       "      <th>mean</th>\n",
       "      <td>5297.303880</td>\n",
       "      <td>5434.659028</td>\n",
       "      <td>5155.711449</td>\n",
       "      <td>5308.761604</td>\n",
       "    </tr>\n",
       "    <tr>\n",
       "      <th>std</th>\n",
       "      <td>4565.207936</td>\n",
       "      <td>4706.356332</td>\n",
       "      <td>4421.531524</td>\n",
       "      <td>4582.321807</td>\n",
       "    </tr>\n",
       "    <tr>\n",
       "      <th>min</th>\n",
       "      <td>210.495000</td>\n",
       "      <td>225.719000</td>\n",
       "      <td>199.567000</td>\n",
       "      <td>211.394000</td>\n",
       "    </tr>\n",
       "    <tr>\n",
       "      <th>25%</th>\n",
       "      <td>657.182500</td>\n",
       "      <td>666.491500</td>\n",
       "      <td>648.766500</td>\n",
       "      <td>657.090000</td>\n",
       "    </tr>\n",
       "    <tr>\n",
       "      <th>50%</th>\n",
       "      <td>4817.774916</td>\n",
       "      <td>4975.040000</td>\n",
       "      <td>4577.272431</td>\n",
       "      <td>4879.760000</td>\n",
       "    </tr>\n",
       "    <tr>\n",
       "      <th>75%</th>\n",
       "      <td>8756.366934</td>\n",
       "      <td>8947.282527</td>\n",
       "      <td>8551.827868</td>\n",
       "      <td>8770.402076</td>\n",
       "    </tr>\n",
       "    <tr>\n",
       "      <th>max</th>\n",
       "      <td>23131.044600</td>\n",
       "      <td>24077.494140</td>\n",
       "      <td>22830.897790</td>\n",
       "      <td>23844.568070</td>\n",
       "    </tr>\n",
       "  </tbody>\n",
       "</table>\n",
       "</div>"
      ],
      "text/plain": [
       "               Open          High           Low         Close\n",
       "count   2063.000000   2063.000000   2063.000000   2063.000000\n",
       "mean    5297.303880   5434.659028   5155.711449   5308.761604\n",
       "std     4565.207936   4706.356332   4421.531524   4582.321807\n",
       "min      210.495000    225.719000    199.567000    211.394000\n",
       "25%      657.182500    666.491500    648.766500    657.090000\n",
       "50%     4817.774916   4975.040000   4577.272431   4879.760000\n",
       "75%     8756.366934   8947.282527   8551.827868   8770.402076\n",
       "max    23131.044600  24077.494140  22830.897790  23844.568070"
      ]
     },
     "execution_count": 64,
     "metadata": {},
     "output_type": "execute_result"
    }
   ],
   "source": [
    "df.describe()\n",
    "#.shape "
   ]
  },
  {
   "cell_type": "code",
   "execution_count": 65,
   "metadata": {},
   "outputs": [
    {
     "data": {
      "text/plain": [
       "Open     8099.184434\n",
       "High     8280.791027\n",
       "Low      7903.061368\n",
       "Close    8113.312076\n",
       "dtype: float64"
      ]
     },
     "execution_count": 65,
     "metadata": {},
     "output_type": "execute_result"
    }
   ],
   "source": [
    "#identify outliers with interquartile range(IQR)\n",
    "q1=df.quantile(0.25)\n",
    "q3=df.quantile(0.75)\n",
    "IQR=q3-q1\n",
    "IQR\n"
   ]
  },
  {
   "cell_type": "code",
   "execution_count": 66,
   "metadata": {},
   "outputs": [],
   "source": [
    "#print(df < (q1- 1.5* IQR)) | (df > (q3+1.5*IQR))\n"
   ]
  },
  {
   "cell_type": "code",
   "execution_count": 67,
   "metadata": {},
   "outputs": [
    {
     "data": {
      "text/plain": [
       "<matplotlib.axes._subplots.AxesSubplot at 0x20f71349a48>"
      ]
     },
     "execution_count": 67,
     "metadata": {},
     "output_type": "execute_result"
    },
    {
     "data": {
      "image/png": "[encoded data removed]",
      "text/plain": [
       "<Figure size 432x288 with 1 Axes>"
      ]
     },
     "metadata": {
      "needs_background": "light"
     },
     "output_type": "display_data"
    }
   ],
   "source": [
    "df.boxplot()"
   ]
  },
  {
   "cell_type": "code",
   "execution_count": 68,
   "metadata": {},
   "outputs": [],
   "source": [
    "#df.hist()"
   ]
  },
  {
   "cell_type": "code",
   "execution_count": 69,
   "metadata": {},
   "outputs": [
    {
     "data": {
      "text/plain": [
       "<matplotlib.legend.Legend at 0x20f71295648>"
      ]
     },
     "execution_count": 69,
     "metadata": {},
     "output_type": "execute_result"
    },
    {
     "data": {
      "image/png": "[encoded data removed]",
      "text/plain": [
       "<Figure size 720x360 with 1 Axes>"
      ]
     },
     "metadata": {
      "needs_background": "light"
     },
     "output_type": "display_data"
    }
   ],
   "source": [
    "#plot graph to visualize the data\n",
    "plt.figure(figsize=(10,5))\n",
    "plt.plot(df['Close'],color = 'blue', label ='Daily Close prices')\n",
    "plt.plot(df['Close'].rolling(window=30).mean(),color = 'red', label ='monthly avg close prices ')\n",
    "plt.legend()"
   ]
  },
  {
   "cell_type": "code",
   "execution_count": 70,
   "metadata": {},
   "outputs": [
    {
     "data": {
      "text/html": [
       "<div>\n",
       "<style scoped>\n",
       "    .dataframe tbody tr th:only-of-type {\n",
       "        vertical-align: middle;\n",
       "    }\n",
       "\n",
       "    .dataframe tbody tr th {\n",
       "        vertical-align: top;\n",
       "    }\n",
       "\n",
       "    .dataframe thead th {\n",
       "        text-align: right;\n",
       "    }\n",
       "</style>\n",
       "<table border=\"1\" class=\"dataframe\">\n",
       "  <thead>\n",
       "    <tr style=\"text-align: right;\">\n",
       "      <th></th>\n",
       "      <th>Open</th>\n",
       "      <th>High</th>\n",
       "      <th>Low</th>\n",
       "      <th>Close</th>\n",
       "      <th>Average</th>\n",
       "    </tr>\n",
       "    <tr>\n",
       "      <th>Date</th>\n",
       "      <th></th>\n",
       "      <th></th>\n",
       "      <th></th>\n",
       "      <th></th>\n",
       "      <th></th>\n",
       "    </tr>\n",
       "  </thead>\n",
       "  <tbody>\n",
       "    <tr>\n",
       "      <th>2015-04-27</th>\n",
       "      <td>229.286</td>\n",
       "      <td>229.495</td>\n",
       "      <td>223.069</td>\n",
       "      <td>225.749</td>\n",
       "      <td>226.89975</td>\n",
       "    </tr>\n",
       "    <tr>\n",
       "      <th>2015-04-28</th>\n",
       "      <td>225.855</td>\n",
       "      <td>227.040</td>\n",
       "      <td>223.430</td>\n",
       "      <td>226.002</td>\n",
       "      <td>225.58175</td>\n",
       "    </tr>\n",
       "    <tr>\n",
       "      <th>2015-04-29</th>\n",
       "      <td>225.808</td>\n",
       "      <td>239.563</td>\n",
       "      <td>224.993</td>\n",
       "      <td>235.997</td>\n",
       "      <td>231.59025</td>\n",
       "    </tr>\n",
       "    <tr>\n",
       "      <th>2015-04-30</th>\n",
       "      <td>236.145</td>\n",
       "      <td>238.966</td>\n",
       "      <td>232.155</td>\n",
       "      <td>232.155</td>\n",
       "      <td>234.85525</td>\n",
       "    </tr>\n",
       "    <tr>\n",
       "      <th>2015-05-01</th>\n",
       "      <td>232.079</td>\n",
       "      <td>235.727</td>\n",
       "      <td>232.079</td>\n",
       "      <td>235.027</td>\n",
       "      <td>233.72800</td>\n",
       "    </tr>\n",
       "  </tbody>\n",
       "</table>\n",
       "</div>"
      ],
      "text/plain": [
       "               Open     High      Low    Close    Average\n",
       "Date                                                     \n",
       "2015-04-27  229.286  229.495  223.069  225.749  226.89975\n",
       "2015-04-28  225.855  227.040  223.430  226.002  225.58175\n",
       "2015-04-29  225.808  239.563  224.993  235.997  231.59025\n",
       "2015-04-30  236.145  238.966  232.155  232.155  234.85525\n",
       "2015-05-01  232.079  235.727  232.079  235.027  233.72800"
      ]
     },
     "execution_count": 70,
     "metadata": {},
     "output_type": "execute_result"
    }
   ],
   "source": [
    "# Feature expansion\n",
    "df['Average'] = (df['Open'] + df['High'] + df['Low'] + df['Close']) / 4\n",
    "df.head()"
   ]
  },
  {
   "cell_type": "code",
   "execution_count": 71,
   "metadata": {},
   "outputs": [
    {
     "data": {
      "text/html": [
       "<div>\n",
       "<style scoped>\n",
       "    .dataframe tbody tr th:only-of-type {\n",
       "        vertical-align: middle;\n",
       "    }\n",
       "\n",
       "    .dataframe tbody tr th {\n",
       "        vertical-align: top;\n",
       "    }\n",
       "\n",
       "    .dataframe thead th {\n",
       "        text-align: right;\n",
       "    }\n",
       "</style>\n",
       "<table border=\"1\" class=\"dataframe\">\n",
       "  <thead>\n",
       "    <tr style=\"text-align: right;\">\n",
       "      <th></th>\n",
       "      <th>Open</th>\n",
       "      <th>High</th>\n",
       "      <th>Low</th>\n",
       "      <th>Close</th>\n",
       "      <th>Average</th>\n",
       "      <th>Price_After_2weeks</th>\n",
       "    </tr>\n",
       "    <tr>\n",
       "      <th>Date</th>\n",
       "      <th></th>\n",
       "      <th></th>\n",
       "      <th></th>\n",
       "      <th></th>\n",
       "      <th></th>\n",
       "      <th></th>\n",
       "    </tr>\n",
       "  </thead>\n",
       "  <tbody>\n",
       "    <tr>\n",
       "      <th>2015-04-27</th>\n",
       "      <td>229.286</td>\n",
       "      <td>229.495</td>\n",
       "      <td>223.069</td>\n",
       "      <td>225.749</td>\n",
       "      <td>226.89975</td>\n",
       "      <td>236.525</td>\n",
       "    </tr>\n",
       "    <tr>\n",
       "      <th>2015-04-28</th>\n",
       "      <td>225.855</td>\n",
       "      <td>227.040</td>\n",
       "      <td>223.430</td>\n",
       "      <td>226.002</td>\n",
       "      <td>225.58175</td>\n",
       "      <td>236.886</td>\n",
       "    </tr>\n",
       "    <tr>\n",
       "      <th>2015-04-29</th>\n",
       "      <td>225.808</td>\n",
       "      <td>239.563</td>\n",
       "      <td>224.993</td>\n",
       "      <td>235.997</td>\n",
       "      <td>231.59025</td>\n",
       "      <td>237.589</td>\n",
       "    </tr>\n",
       "    <tr>\n",
       "      <th>2015-04-30</th>\n",
       "      <td>236.145</td>\n",
       "      <td>238.966</td>\n",
       "      <td>232.155</td>\n",
       "      <td>232.155</td>\n",
       "      <td>234.85525</td>\n",
       "      <td>236.185</td>\n",
       "    </tr>\n",
       "    <tr>\n",
       "      <th>2015-05-01</th>\n",
       "      <td>232.079</td>\n",
       "      <td>235.727</td>\n",
       "      <td>232.079</td>\n",
       "      <td>235.027</td>\n",
       "      <td>233.72800</td>\n",
       "      <td>236.796</td>\n",
       "    </tr>\n",
       "  </tbody>\n",
       "</table>\n",
       "</div>"
      ],
      "text/plain": [
       "               Open     High      Low    Close    Average  Price_After_2weeks\n",
       "Date                                                                         \n",
       "2015-04-27  229.286  229.495  223.069  225.749  226.89975             236.525\n",
       "2015-04-28  225.855  227.040  223.430  226.002  225.58175             236.886\n",
       "2015-04-29  225.808  239.563  224.993  235.997  231.59025             237.589\n",
       "2015-04-30  236.145  238.966  232.155  232.155  234.85525             236.185\n",
       "2015-05-01  232.079  235.727  232.079  235.027  233.72800             236.796"
      ]
     },
     "execution_count": 71,
     "metadata": {},
     "output_type": "execute_result"
    }
   ],
   "source": [
    "# create label/target var for our data set\n",
    "df['Price_After_2weeks']= df['Close'].shift(-15)\n",
    "df.head()"
   ]
  },
  {
   "cell_type": "code",
   "execution_count": 72,
   "metadata": {},
   "outputs": [
    {
     "data": {
      "text/plain": [
       "(2063, 6)"
      ]
     },
     "execution_count": 72,
     "metadata": {},
     "output_type": "execute_result"
    }
   ],
   "source": [
    "df.shape"
   ]
  },
  {
   "cell_type": "code",
   "execution_count": 73,
   "metadata": {},
   "outputs": [],
   "source": [
    "#Preprocessing and separating the feature and target variables\n",
    "from sklearn import preprocessing\n",
    "#drop null values\n",
    "df.dropna(inplace=True)\n",
    "# separate x and y\n",
    "X=df.drop('Price_After_2weeks',axis=1)\n",
    "X=preprocessing.scale(X)#We need to scale our values to input them in our model\n",
    "Y=df['Price_After_2weeks']"
   ]
  },
  {
   "cell_type": "code",
   "execution_count": 74,
   "metadata": {},
   "outputs": [],
   "source": [
    "# separate the train and the text set\n",
    "from sklearn.model_selection import train_test_split\n",
    "x_train,x_test,y_train,y_test=train_test_split(X,Y,test_size=0.2,random_state=0)"
   ]
  },
  {
   "cell_type": "code",
   "execution_count": 75,
   "metadata": {},
   "outputs": [
    {
     "name": "stdout",
     "output_type": "stream",
     "text": [
      "X_train (1638, 5)\n",
      "y_train (1638,)\n",
      "X_test (410, 5)\n",
      "y_test (410,)\n"
     ]
    }
   ],
   "source": [
    "print(\"X_train\", x_train.shape)\n",
    "print(\"y_train\", y_train.shape)\n",
    "print(\"X_test\", x_test.shape)\n",
    "print(\"y_test\", y_test.shape)"
   ]
  },
  {
   "cell_type": "markdown",
   "metadata": {},
   "source": [
    "# 1.SVM"
   ]
  },
  {
   "cell_type": "code",
   "execution_count": 76,
   "metadata": {},
   "outputs": [],
   "source": [
    "# Build 2 models\n",
    "\n",
    "poly_svr = SVR(kernel='poly', C=1000.0, degree =2)\n",
    "poly_svr.fit(x_train, y_train)\n",
    "\n",
    "rbf_svr = SVR(kernel='rbf', C=1000.0, gamma=0.85)\n",
    "Rbf_model=rbf_svr.fit(x_train, y_train)"
   ]
  },
  {
   "cell_type": "code",
   "execution_count": 77,
   "metadata": {},
   "outputs": [
    {
     "name": "stdout",
     "output_type": "stream",
     "text": [
      "Polynomial svm accuracy is: 0.2086610318678066\n",
      "RBF svm accuracy is: 90.92217159933779\n"
     ]
    }
   ],
   "source": [
    "#test svm models accuracy.\n",
    "#accuracy1 =lin_svr.score(x_test,y_test)\n",
    "#lin_score=float(accuracy1)*100\n",
    "#print(\"Linear svm accuacy is:\", lin_score)\n",
    "\n",
    "accuracy2 =poly_svr.score(x_test,y_test)\n",
    "#poly_score=float(accuracy2)*100\n",
    "print(\"Polynomial svm accuracy is:\", accuracy2)\n",
    "\n",
    "accuracy3 =Rbf_model.score(x_test,y_test)\n",
    "rbf_score=float(accuracy3)*100\n",
    "print(\"RBF svm accuracy is:\", rbf_score)"
   ]
  },
  {
   "cell_type": "code",
   "execution_count": 78,
   "metadata": {},
   "outputs": [
    {
     "name": "stdout",
     "output_type": "stream",
     "text": [
      "The Rbf prediction is: 443.77524660601193 \n",
      " The Actual price is:   538.0169999999999\n"
     ]
    }
   ],
   "source": [
    "#use the Gaussian svm to make pedictions\n",
    "rbf_preds= Rbf_model.predict(x_test)\n",
    "print(\"The Rbf prediction is:\", rbf_preds[1],'\\n',\"The Actual price is:  \" ,y_test[1])"
   ]
  },
  {
   "cell_type": "code",
   "execution_count": 79,
   "metadata": {},
   "outputs": [],
   "source": [
    "#save the model\n",
    "filename = 'Trained_models/'+'rbf.sav'\n",
    "\n",
    "#pickle.dump(Rbf_model, open(filename, 'wb'))"
   ]
  },
  {
   "cell_type": "code",
   "execution_count": 80,
   "metadata": {},
   "outputs": [
    {
     "data": {
      "text/html": [
       "<div>\n",
       "<style scoped>\n",
       "    .dataframe tbody tr th:only-of-type {\n",
       "        vertical-align: middle;\n",
       "    }\n",
       "\n",
       "    .dataframe tbody tr th {\n",
       "        vertical-align: top;\n",
       "    }\n",
       "\n",
       "    .dataframe thead th {\n",
       "        text-align: right;\n",
       "    }\n",
       "</style>\n",
       "<table border=\"1\" class=\"dataframe\">\n",
       "  <thead>\n",
       "    <tr style=\"text-align: right;\">\n",
       "      <th></th>\n",
       "      <th>Predictions</th>\n",
       "      <th>Actual_prices</th>\n",
       "      <th>index</th>\n",
       "    </tr>\n",
       "  </thead>\n",
       "  <tbody>\n",
       "    <tr>\n",
       "      <th>0</th>\n",
       "      <td>6660.720899</td>\n",
       "      <td>6364.401842</td>\n",
       "      <td>0</td>\n",
       "    </tr>\n",
       "    <tr>\n",
       "      <th>1</th>\n",
       "      <td>443.775247</td>\n",
       "      <td>538.017000</td>\n",
       "      <td>1</td>\n",
       "    </tr>\n",
       "    <tr>\n",
       "      <th>2</th>\n",
       "      <td>5699.337234</td>\n",
       "      <td>5820.358392</td>\n",
       "      <td>2</td>\n",
       "    </tr>\n",
       "    <tr>\n",
       "      <th>3</th>\n",
       "      <td>1426.298865</td>\n",
       "      <td>1488.820000</td>\n",
       "      <td>3</td>\n",
       "    </tr>\n",
       "    <tr>\n",
       "      <th>4</th>\n",
       "      <td>8303.752989</td>\n",
       "      <td>8672.985373</td>\n",
       "      <td>4</td>\n",
       "    </tr>\n",
       "  </tbody>\n",
       "</table>\n",
       "</div>"
      ],
      "text/plain": [
       "   Predictions  Actual_prices  index\n",
       "0  6660.720899    6364.401842      0\n",
       "1   443.775247     538.017000      1\n",
       "2  5699.337234    5820.358392      2\n",
       "3  1426.298865    1488.820000      3\n",
       "4  8303.752989    8672.985373      4"
      ]
     },
     "execution_count": 80,
     "metadata": {},
     "output_type": "execute_result"
    }
   ],
   "source": [
    "#covert the predictions and actual values DataFrame\n",
    "rbf_df=pd.DataFrame({'Predictions':rbf_preds,'Actual_prices':y_test})\n",
    "# reset the index to normal data frame indexing\n",
    "rbf_df.reset_index(drop=True, inplace=True)\n",
    "#rename the column\n",
    "rbf_df[\"index\"]=rbf_df.index\n",
    "rbf_df.head()"
   ]
  },
  {
   "cell_type": "code",
   "execution_count": 81,
   "metadata": {},
   "outputs": [
    {
     "name": "stdout",
     "output_type": "stream",
     "text": [
      "Mean Absolute Error: 793.5726167724016\n",
      "Mean Squared Error: 2164349.0964274737\n",
      "Root Mean Squared Error: 1471.1726942910113\n"
     ]
    }
   ],
   "source": [
    "from sklearn import metrics\n",
    "print('Mean Absolute Error:', metrics.mean_absolute_error(y_test, rbf_preds))\n",
    "print('Mean Squared Error:', metrics.mean_squared_error(y_test, rbf_preds))\n",
    "print('Root Mean Squared Error:', np.sqrt(metrics.mean_squared_error(y_test, rbf_preds)))"
   ]
  },
  {
   "cell_type": "code",
   "execution_count": 82,
   "metadata": {},
   "outputs": [
    {
     "data": {
      "image/png": "[encoded data removed]",
      "text/plain": [
       "<Figure size 720x360 with 1 Axes>"
      ]
     },
     "metadata": {
      "needs_background": "light"
     },
     "output_type": "display_data"
    }
   ],
   "source": [
    "# plot predictions\n",
    "plt.figure(figsize=(10,5))\n",
    "#plot the actual prices on scatter plot\n",
    "plt.scatter(rbf_df['index'].head(30),rbf_df['Actual_prices'].head(30), color ='green', label='Actual prices')\n",
    "# plot rbf model predictions\n",
    "plt.plot(rbf_df['Predictions'].head(30), color = 'orange', label ='Rbf Predicted prices')\n",
    "plt.ylabel('Bitcoin Market Prediction')\n",
    "plt.legend()\n",
    "plt.show()"
   ]
  },
  {
   "cell_type": "markdown",
   "metadata": {},
   "source": [
    "# 2.Linear Regression "
   ]
  },
  {
   "cell_type": "code",
   "execution_count": 83,
   "metadata": {},
   "outputs": [],
   "source": [
    "from sklearn.linear_model import LinearRegression\n",
    "regressor = LinearRegression()\n",
    "LR= regressor.fit(x_train, y_train)"
   ]
  },
  {
   "cell_type": "code",
   "execution_count": 84,
   "metadata": {},
   "outputs": [
    {
     "name": "stdout",
     "output_type": "stream",
     "text": [
      "5340.931510998562\n"
     ]
    }
   ],
   "source": [
    "print(LR.intercept_)"
   ]
  },
  {
   "cell_type": "code",
   "execution_count": 85,
   "metadata": {},
   "outputs": [
    {
     "name": "stdout",
     "output_type": "stream",
     "text": [
      "Linear regresssion accuracy is 91.52 %\n"
     ]
    }
   ],
   "source": [
    "#test the accuracy\n",
    "accuracy=LR.score(x_test,y_test)\n",
    "accuracy=float(accuracy)*100\n",
    "print('Linear regresssion accuracy is {0:.2f} %'.format(accuracy))"
   ]
  },
  {
   "cell_type": "code",
   "execution_count": 86,
   "metadata": {},
   "outputs": [
    {
     "name": "stdout",
     "output_type": "stream",
     "text": [
      "The Linear regression prediction is: 5521.176364242056 \n",
      " The Actual price is:   5820.358392\n"
     ]
    }
   ],
   "source": [
    "#Linear regresssion predictions\n",
    "LR_preds=LR.predict(x_test)\n",
    "print(\"The Linear regression prediction is:\", LR_preds[2],'\\n',\"The Actual price is:  \" ,y_test[2])"
   ]
  },
  {
   "cell_type": "code",
   "execution_count": 87,
   "metadata": {},
   "outputs": [
    {
     "data": {
      "text/html": [
       "<div>\n",
       "<style scoped>\n",
       "    .dataframe tbody tr th:only-of-type {\n",
       "        vertical-align: middle;\n",
       "    }\n",
       "\n",
       "    .dataframe tbody tr th {\n",
       "        vertical-align: top;\n",
       "    }\n",
       "\n",
       "    .dataframe thead th {\n",
       "        text-align: right;\n",
       "    }\n",
       "</style>\n",
       "<table border=\"1\" class=\"dataframe\">\n",
       "  <thead>\n",
       "    <tr style=\"text-align: right;\">\n",
       "      <th></th>\n",
       "      <th>Predictions</th>\n",
       "      <th>Actual_prices</th>\n",
       "      <th>index</th>\n",
       "    </tr>\n",
       "  </thead>\n",
       "  <tbody>\n",
       "    <tr>\n",
       "      <th>0</th>\n",
       "      <td>6727.817538</td>\n",
       "      <td>6364.401842</td>\n",
       "      <td>0</td>\n",
       "    </tr>\n",
       "    <tr>\n",
       "      <th>1</th>\n",
       "      <td>601.261793</td>\n",
       "      <td>538.017000</td>\n",
       "      <td>1</td>\n",
       "    </tr>\n",
       "    <tr>\n",
       "      <th>2</th>\n",
       "      <td>5521.176364</td>\n",
       "      <td>5820.358392</td>\n",
       "      <td>2</td>\n",
       "    </tr>\n",
       "    <tr>\n",
       "      <th>3</th>\n",
       "      <td>1363.465592</td>\n",
       "      <td>1488.820000</td>\n",
       "      <td>3</td>\n",
       "    </tr>\n",
       "    <tr>\n",
       "      <th>4</th>\n",
       "      <td>8098.195881</td>\n",
       "      <td>8672.985373</td>\n",
       "      <td>4</td>\n",
       "    </tr>\n",
       "  </tbody>\n",
       "</table>\n",
       "</div>"
      ],
      "text/plain": [
       "   Predictions  Actual_prices  index\n",
       "0  6727.817538    6364.401842      0\n",
       "1   601.261793     538.017000      1\n",
       "2  5521.176364    5820.358392      2\n",
       "3  1363.465592    1488.820000      3\n",
       "4  8098.195881    8672.985373      4"
      ]
     },
     "execution_count": 87,
     "metadata": {},
     "output_type": "execute_result"
    }
   ],
   "source": [
    "#convert array values to pandas.\n",
    "lr_df=pd.DataFrame({'Predictions':LR_preds,'Actual_prices':y_test})\n",
    "lr_df.reset_index(drop=True, inplace=True)\n",
    "lr_df['index']=lr_df.index\n",
    "lr_df.head()"
   ]
  },
  {
   "cell_type": "code",
   "execution_count": 88,
   "metadata": {},
   "outputs": [],
   "source": [
    "#save the Linear regression model\n",
    "filename = 'Trained_models/'+'linearRegression.sav'\n",
    "#pickle.dump(LR, open(filename, 'wb'))"
   ]
  },
  {
   "cell_type": "code",
   "execution_count": 89,
   "metadata": {},
   "outputs": [
    {
     "name": "stdout",
     "output_type": "stream",
     "text": [
      "Mean Absolute Error: 819.4939758390565\n",
      "Mean Squared Error: 2021660.7278313008\n",
      "Root Mean Squared Error: 1421.8511623342652\n"
     ]
    }
   ],
   "source": [
    "#evaluating the algorith\n",
    "from sklearn import metrics\n",
    "print('Mean Absolute Error:', metrics.mean_absolute_error(y_test, LR_preds))\n",
    "print('Mean Squared Error:', metrics.mean_squared_error(y_test, LR_preds))\n",
    "print('Root Mean Squared Error:', np.sqrt(metrics.mean_squared_error(y_test, LR_preds)))"
   ]
  },
  {
   "cell_type": "code",
   "execution_count": 90,
   "metadata": {},
   "outputs": [
    {
     "data": {
      "text/plain": [
       "<matplotlib.legend.Legend at 0x20f713b4688>"
      ]
     },
     "execution_count": 90,
     "metadata": {},
     "output_type": "execute_result"
    },
    {
     "data": {
      "image/png": "[encoded data removed]",
      "text/plain": [
       "<Figure size 720x360 with 1 Axes>"
      ]
     },
     "metadata": {
      "needs_background": "light"
     },
     "output_type": "display_data"
    }
   ],
   "source": [
    "#plot Linear regressions predictions\n",
    "plt.figure(figsize=(10,5))\n",
    "plt.scatter(lr_df['index'].tail(30), lr_df['Actual_prices'].tail(30), color='green', label=\"Actual prices\")\n",
    "plt.plot(lr_df['Predictions'].tail(30), color='purple', label=\"Predicted prices\")\n",
    "plt.ylabel(\"Bitcoin prices\")\n",
    "plt.legend()"
   ]
  },
  {
   "cell_type": "markdown",
   "metadata": {},
   "source": [
    "# 3. Random Forest"
   ]
  },
  {
   "cell_type": "code",
   "execution_count": 91,
   "metadata": {},
   "outputs": [],
   "source": [
    "# fit the model on training set \n",
    "from sklearn.ensemble import RandomForestRegressor\n",
    "reg=RandomForestRegressor(n_estimators=100,random_state=0)\n",
    "model = reg.fit(x_train,y_train)"
   ]
  },
  {
   "cell_type": "code",
   "execution_count": 92,
   "metadata": {},
   "outputs": [
    {
     "name": "stdout",
     "output_type": "stream",
     "text": [
      "The model accuracy is: 91.89 % \n",
      "\n",
      "The predicted price is: 492.4118000000006 \n",
      " The Actual value is:   538.0169999999999\n"
     ]
    }
   ],
   "source": [
    "# Test the RandomForest accuracy and predictons!\n",
    "acc=model.score(x_test,y_test)\n",
    "score=float(acc)*100\n",
    "print('The model accuracy is: {0:.2f} % \\n'.format(score))#This percentage shows how much our regression fits our data\n",
    "\n",
    "# test the model\n",
    "randf_preds = model.predict(x_test)\n",
    "print(\"The predicted price is:\", randf_preds[1],'\\n', \"The Actual value is:  \" ,y_test[1])"
   ]
  },
  {
   "cell_type": "code",
   "execution_count": 35,
   "metadata": {},
   "outputs": [],
   "source": [
    "#save model\n",
    "file ='Trained_models/'+'randomforest.sav'\n",
    "#pickle.dump(model, open(file, 'wb'))"
   ]
  },
  {
   "cell_type": "code",
   "execution_count": 36,
   "metadata": {},
   "outputs": [
    {
     "name": "stdout",
     "output_type": "stream",
     "text": [
      "Mean Absolute Error: 742.9385772670489\n",
      "Root Mean Squared Error: 1409.5033176187098\n"
     ]
    }
   ],
   "source": [
    "#Evaluating the random forest regressor model algorithm using the error metrics.\n",
    "from sklearn import metrics\n",
    "print('Mean Absolute Error:', metrics.mean_absolute_error(y_test, randf_preds))  \n",
    "#print('Mean Squared Error:', metrics.mean_squared_error(y_test, randf_preds))  \n",
    "print('Root Mean Squared Error:', np.sqrt(metrics.mean_squared_error(y_test, randf_preds)))"
   ]
  },
  {
   "cell_type": "code",
   "execution_count": 37,
   "metadata": {},
   "outputs": [
    {
     "data": {
      "text/html": [
       "<div>\n",
       "<style scoped>\n",
       "    .dataframe tbody tr th:only-of-type {\n",
       "        vertical-align: middle;\n",
       "    }\n",
       "\n",
       "    .dataframe tbody tr th {\n",
       "        vertical-align: top;\n",
       "    }\n",
       "\n",
       "    .dataframe thead th {\n",
       "        text-align: right;\n",
       "    }\n",
       "</style>\n",
       "<table border=\"1\" class=\"dataframe\">\n",
       "  <thead>\n",
       "    <tr style=\"text-align: right;\">\n",
       "      <th></th>\n",
       "      <th>Actual_values</th>\n",
       "      <th>RandomF_Preds</th>\n",
       "      <th>index</th>\n",
       "    </tr>\n",
       "  </thead>\n",
       "  <tbody>\n",
       "    <tr>\n",
       "      <th>0</th>\n",
       "      <td>11266.401340</td>\n",
       "      <td>10274.601291</td>\n",
       "      <td>0</td>\n",
       "    </tr>\n",
       "    <tr>\n",
       "      <th>1</th>\n",
       "      <td>5363.756655</td>\n",
       "      <td>5282.484367</td>\n",
       "      <td>1</td>\n",
       "    </tr>\n",
       "    <tr>\n",
       "      <th>2</th>\n",
       "      <td>435.101000</td>\n",
       "      <td>419.525290</td>\n",
       "      <td>2</td>\n",
       "    </tr>\n",
       "    <tr>\n",
       "      <th>3</th>\n",
       "      <td>11095.091960</td>\n",
       "      <td>9210.586108</td>\n",
       "      <td>3</td>\n",
       "    </tr>\n",
       "    <tr>\n",
       "      <th>4</th>\n",
       "      <td>8216.796397</td>\n",
       "      <td>7256.281538</td>\n",
       "      <td>4</td>\n",
       "    </tr>\n",
       "  </tbody>\n",
       "</table>\n",
       "</div>"
      ],
      "text/plain": [
       "   Actual_values  RandomF_Preds  index\n",
       "0   11266.401340   10274.601291      0\n",
       "1    5363.756655    5282.484367      1\n",
       "2     435.101000     419.525290      2\n",
       "3   11095.091960    9210.586108      3\n",
       "4    8216.796397    7256.281538      4"
      ]
     },
     "execution_count": 37,
     "metadata": {},
     "output_type": "execute_result"
    }
   ],
   "source": [
    "#convert predicted and actual values to data frame\n",
    "df1=pd.DataFrame({'Actual_values':y_test,'RandomF_Preds':randf_preds})\n",
    "#drop the date index\n",
    "df1.reset_index(drop=True, inplace=True)\n",
    "#create  new index column\n",
    "df1[\"index\"]=df1.index\n",
    "df1.head()"
   ]
  },
  {
   "cell_type": "code",
   "execution_count": 38,
   "metadata": {},
   "outputs": [
    {
     "data": {
      "image/png": "[encoded data removed]",
      "text/plain": [
       "<Figure size 720x360 with 1 Axes>"
      ]
     },
     "metadata": {
      "needs_background": "light"
     },
     "output_type": "display_data"
    }
   ],
   "source": [
    "#plot Random Forest predictions\n",
    "plt.figure(figsize=(10,5))\n",
    "plt.scatter(x =df1['index'].head(20), y=df1['Actual_values'].head(20), color='green', label='Actual Test Values')\n",
    "plt.plot(df1['RandomF_Preds'].head(20), color='blue', label='Predicted Values')\n",
    "plt.legend()\n",
    "plt.show()"
   ]
  },
  {
   "cell_type": "markdown",
   "metadata": {},
   "source": [
    "# Forecast"
   ]
  },
  {
   "cell_type": "code",
   "execution_count": 50,
   "metadata": {},
   "outputs": [],
   "source": [
    "#lets make our prediction on the last 30 elements \n",
    "x_30=X[-30:] # \n",
    "predictions =model.predict(x_30)\n",
    "#X_30"
   ]
  },
  {
   "cell_type": "code",
   "execution_count": 51,
   "metadata": {},
   "outputs": [
    {
     "data": {
      "text/plain": [
       "Timestamp('2021-02-02 00:00:00')"
      ]
     },
     "execution_count": 51,
     "metadata": {},
     "output_type": "execute_result"
    }
   ],
   "source": [
    "# date counter\n",
    "last_date= df.iloc[-1].name #df.iloc[:,-1]\n",
    "last_date"
   ]
  },
  {
   "cell_type": "code",
   "execution_count": 52,
   "metadata": {},
   "outputs": [
    {
     "data": {
      "text/html": [
       "<div>\n",
       "<style scoped>\n",
       "    .dataframe tbody tr th:only-of-type {\n",
       "        vertical-align: middle;\n",
       "    }\n",
       "\n",
       "    .dataframe tbody tr th {\n",
       "        vertical-align: top;\n",
       "    }\n",
       "\n",
       "    .dataframe thead th {\n",
       "        text-align: right;\n",
       "    }\n",
       "</style>\n",
       "<table border=\"1\" class=\"dataframe\">\n",
       "  <thead>\n",
       "    <tr style=\"text-align: right;\">\n",
       "      <th></th>\n",
       "      <th>Average</th>\n",
       "      <th>Close</th>\n",
       "      <th>High</th>\n",
       "      <th>Low</th>\n",
       "      <th>Open</th>\n",
       "      <th>Predictions</th>\n",
       "      <th>Price_After_2weeks</th>\n",
       "    </tr>\n",
       "  </thead>\n",
       "  <tbody>\n",
       "    <tr>\n",
       "      <th>2021-02-28</th>\n",
       "      <td>NaN</td>\n",
       "      <td>NaN</td>\n",
       "      <td>NaN</td>\n",
       "      <td>NaN</td>\n",
       "      <td>NaN</td>\n",
       "      <td>16254.064321</td>\n",
       "      <td>NaN</td>\n",
       "    </tr>\n",
       "    <tr>\n",
       "      <th>2021-03-01</th>\n",
       "      <td>NaN</td>\n",
       "      <td>NaN</td>\n",
       "      <td>NaN</td>\n",
       "      <td>NaN</td>\n",
       "      <td>NaN</td>\n",
       "      <td>20202.310800</td>\n",
       "      <td>NaN</td>\n",
       "    </tr>\n",
       "    <tr>\n",
       "      <th>2021-03-02</th>\n",
       "      <td>NaN</td>\n",
       "      <td>NaN</td>\n",
       "      <td>NaN</td>\n",
       "      <td>NaN</td>\n",
       "      <td>NaN</td>\n",
       "      <td>20576.322931</td>\n",
       "      <td>NaN</td>\n",
       "    </tr>\n",
       "    <tr>\n",
       "      <th>2021-03-03</th>\n",
       "      <td>NaN</td>\n",
       "      <td>NaN</td>\n",
       "      <td>NaN</td>\n",
       "      <td>NaN</td>\n",
       "      <td>NaN</td>\n",
       "      <td>17993.563956</td>\n",
       "      <td>NaN</td>\n",
       "    </tr>\n",
       "    <tr>\n",
       "      <th>2021-03-04</th>\n",
       "      <td>NaN</td>\n",
       "      <td>NaN</td>\n",
       "      <td>NaN</td>\n",
       "      <td>NaN</td>\n",
       "      <td>NaN</td>\n",
       "      <td>22237.028256</td>\n",
       "      <td>NaN</td>\n",
       "    </tr>\n",
       "  </tbody>\n",
       "</table>\n",
       "</div>"
      ],
      "text/plain": [
       "            Average  Close  High  Low  Open   Predictions  Price_After_2weeks\n",
       "2021-02-28      NaN    NaN   NaN  NaN   NaN  16254.064321                 NaN\n",
       "2021-03-01      NaN    NaN   NaN  NaN   NaN  20202.310800                 NaN\n",
       "2021-03-02      NaN    NaN   NaN  NaN   NaN  20576.322931                 NaN\n",
       "2021-03-03      NaN    NaN   NaN  NaN   NaN  17993.563956                 NaN\n",
       "2021-03-04      NaN    NaN   NaN  NaN   NaN  22237.028256                 NaN"
      ]
     },
     "execution_count": 52,
     "metadata": {},
     "output_type": "execute_result"
    }
   ],
   "source": [
    "#create a new column to add predictions \n",
    "modified_date = last_date + timedelta(days=1)\n",
    "#increment the dates for tor the spwcified periods\n",
    "Date=pd.date_range(modified_date,periods=30)\n",
    "col=['Predictions']\n",
    "preds = pd.DataFrame(predictions,columns= col,index=Date)\n",
    "df =df.append(preds, sort=True)\n",
    "df.tail()"
   ]
  },
  {
   "cell_type": "code",
   "execution_count": 53,
   "metadata": {},
   "outputs": [
    {
     "data": {
      "text/plain": [
       "([<matplotlib.lines.Line2D at 0x2027fcf6b08>],\n",
       " [<matplotlib.lines.Line2D at 0x2027f38fcc8>])"
      ]
     },
     "execution_count": 53,
     "metadata": {},
     "output_type": "execute_result"
    },
    {
     "data": {
      "image/png": "[encoded data removed]",
      "text/plain": [
       "<Figure size 720x360 with 1 Axes>"
      ]
     },
     "metadata": {},
     "output_type": "display_data"
    }
   ],
   "source": [
    "# Plot the predictions!\n",
    "def PlotPredictions():\n",
    "    plt.figure(figsize=(10,5))  \n",
    "    sns.set()\n",
    "    sns.set_style('whitegrid')\n",
    "    result1 = plt.plot(df['Close'],  color ='green', label='Close prices')\n",
    "    result2= plt.plot(df['Predictions'], color = 'orange', label='predicted Prices')\n",
    "    plt.legend()\n",
    "    return result1,result2\n",
    "PlotPredictions()"
   ]
  },
  {
   "cell_type": "code",
   "execution_count": null,
   "metadata": {},
   "outputs": [],
   "source": []
  },
  {
   "cell_type": "code",
   "execution_count": null,
   "metadata": {},
   "outputs": [],
   "source": []
  }
 ],
 "metadata": {
  "kernelspec": {
   "display_name": "Python 3",
   "language": "python",
   "name": "python3"
  },
  "language_info": {
   "codemirror_mode": {
    "name": "ipython",
    "version": 3
   },
   "file_extension": ".py",
   "mimetype": "text/x-python",
   "name": "python",
   "nbconvert_exporter": "python",
   "pygments_lexer": "ipython3",
   "version": "3.7.10"
  }
 },
 "nbformat": 4,
 "nbformat_minor": 2
}
